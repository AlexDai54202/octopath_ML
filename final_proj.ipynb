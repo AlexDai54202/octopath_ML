{
 "cells": [
  {
   "attachments": {},
   "cell_type": "markdown",
   "metadata": {},
   "source": [
    "# Octopath Traveler Weakness Analysis\n",
    "\n",
    "## Motivation\n",
    "\n",
    "Octopath Traveler is a video game. All enemies have a set of weaknesses, and hitting those weaknesses deal 1.5x damage (when the enemy is not broken). Additionally, enemies have shields, and only by hitting weaknesses can you break enemy shields. When an enemy shield is broken, the enemy loses their action(s) for the current turn, and their next turn before they get their action back. Additionally, when an enemy shield is broken, they are subject to a \"broken\" state until they recover their shield, making them take x2 incoming damage.\n",
    "\n",
    "In this project, I will create a CNN to predict enemy weaknesses by their sprite.\n",
    "\n",
    "Of course, this is hardly the most pragmatic topic, and I am not arguing that this is going to be extremely helpful (considering datamines for every enemy weakness already exists), but this can serve as a good introduction to CNNs and transfer learning."
   ]
  },
  {
   "attachments": {},
   "cell_type": "markdown",
   "metadata": {},
   "source": [
    "## Code - Part 1: Representing data\n",
    "\n",
    "I will take EnemyDB, join it with the CharacterResourceDB table, and associate each enemy's weakness with a set of weaknesses and a sprite."
   ]
  },
  {
   "cell_type": "code",
   "execution_count": 1,
   "metadata": {},
   "outputs": [],
   "source": [
    "import pandas as pd\n",
    "import sklearn\n",
    "import numpy as np\n",
    "import sys\n",
    "import os\n",
    "import json\n",
    "import re"
   ]
  },
  {
   "cell_type": "code",
   "execution_count": 2,
   "metadata": {},
   "outputs": [],
   "source": [
    "enemyDB = json.load(open('EnemyDB.json'))[0]\n",
    "resourceDB = json.load(open('CharacterResourceDB.json'))[0]\n",
    "textDB = json.load(open('GameTextEN.json', encoding=\"utf8\"))[0]\n",
    "\n",
    "del enemyDB['export_type']\n",
    "del resourceDB['export_type']\n",
    "del textDB['export_type']"
   ]
  },
  {
   "cell_type": "code",
   "execution_count": 3,
   "metadata": {},
   "outputs": [],
   "source": [
    "enemydf = pd.DataFrame.from_dict(enemyDB).transpose()\n",
    "resourcedf = pd.DataFrame.from_dict(resourceDB).transpose()\n",
    "textdf = pd.DataFrame.from_dict(textDB).transpose()"
   ]
  },
  {
   "cell_type": "code",
   "execution_count": 4,
   "metadata": {},
   "outputs": [],
   "source": [
    "cols = enemydf.columns"
   ]
  },
  {
   "attachments": {},
   "cell_type": "markdown",
   "metadata": {},
   "source": [
    "Literally all these columns, except for the enemy name and weakness should be dropped."
   ]
  },
  {
   "cell_type": "code",
   "execution_count": 5,
   "metadata": {},
   "outputs": [],
   "source": [
    "enemydf = enemydf.drop(cols.drop(['DisplayNameID_151_570F1B1240B0BB42C31AA7A4F6CFAF72','ResourceLabel_295_2D43957442A6F48343BB639C79635FAE','AttributeResist_282_87881AFB4F4DD148EA692D8F63B73E16','WeaponResist_283_0BB9356646F9B928F5FC1584A458ABBC']), axis=1)"
   ]
  },
  {
   "attachments": {},
   "cell_type": "markdown",
   "metadata": {},
   "source": [
    "Now we remove all names that are null"
   ]
  },
  {
   "cell_type": "code",
   "execution_count": 6,
   "metadata": {},
   "outputs": [],
   "source": [
    "enemydf = enemydf.mask(enemydf.eq('None')).dropna()"
   ]
  },
  {
   "attachments": {},
   "cell_type": "markdown",
   "metadata": {},
   "source": [
    "Now we one-hot encode.\n",
    "\n",
    "Attributes go: Fire, Ice, Lightning, Wind, Light, Dark.\n",
    "\n",
    "Weapons go: Sword, Spear, Dagger, Axe, Bow, Staff."
   ]
  },
  {
   "cell_type": "code",
   "execution_count": 7,
   "metadata": {},
   "outputs": [
    {
     "data": {
      "text/html": [
       "<div>\n",
       "<style scoped>\n",
       "    .dataframe tbody tr th:only-of-type {\n",
       "        vertical-align: middle;\n",
       "    }\n",
       "\n",
       "    .dataframe tbody tr th {\n",
       "        vertical-align: top;\n",
       "    }\n",
       "\n",
       "    .dataframe thead th {\n",
       "        text-align: right;\n",
       "    }\n",
       "</style>\n",
       "<table border=\"1\" class=\"dataframe\">\n",
       "  <thead>\n",
       "    <tr style=\"text-align: right;\">\n",
       "      <th></th>\n",
       "      <th>DisplayNameID_151_570F1B1240B0BB42C31AA7A4F6CFAF72</th>\n",
       "      <th>ResourceLabel_295_2D43957442A6F48343BB639C79635FAE</th>\n",
       "      <th>AttributeResist_282_87881AFB4F4DD148EA692D8F63B73E16</th>\n",
       "      <th>WeaponResist_283_0BB9356646F9B928F5FC1584A458ABBC</th>\n",
       "    </tr>\n",
       "    <tr>\n",
       "      <th>Enemy_ID</th>\n",
       "      <th></th>\n",
       "      <th></th>\n",
       "      <th></th>\n",
       "      <th></th>\n",
       "    </tr>\n",
       "  </thead>\n",
       "  <tbody>\n",
       "    <tr>\n",
       "      <th>ENE_BOS_WAR_C01_010</th>\n",
       "      <td>ENN_BOS_WAR_C01_010</td>\n",
       "      <td>ENE_BOS_WAR_C01_010</td>\n",
       "      <td>[EATTRIBUTE_RESIST::eNONE, EATTRIBUTE_RESIST::...</td>\n",
       "      <td>[EATTRIBUTE_RESIST::eWEAK, EATTRIBUTE_RESIST::...</td>\n",
       "    </tr>\n",
       "    <tr>\n",
       "      <th>ENE_BOS_WAR_C01_020</th>\n",
       "      <td>ENN_BOS_WAR_C01_020</td>\n",
       "      <td>ENE_BOS_WAR_C01_020</td>\n",
       "      <td>[EATTRIBUTE_RESIST::eNONE, EATTRIBUTE_RESIST::...</td>\n",
       "      <td>[EATTRIBUTE_RESIST::eWEAK, EATTRIBUTE_RESIST::...</td>\n",
       "    </tr>\n",
       "    <tr>\n",
       "      <th>ENE_BOS_WAR_C02_010</th>\n",
       "      <td>ENN_BOS_WAR_C02_010</td>\n",
       "      <td>ENE_BOS_WAR_C02_010</td>\n",
       "      <td>[EATTRIBUTE_RESIST::eNONE, EATTRIBUTE_RESIST::...</td>\n",
       "      <td>[EATTRIBUTE_RESIST::eNONE, EATTRIBUTE_RESIST::...</td>\n",
       "    </tr>\n",
       "    <tr>\n",
       "      <th>ENE_BOS_WAR_C02_020</th>\n",
       "      <td>ENN_BOS_WAR_C02_020</td>\n",
       "      <td>ENE_BOS_WAR_C02_020</td>\n",
       "      <td>[EATTRIBUTE_RESIST::eNONE, EATTRIBUTE_RESIST::...</td>\n",
       "      <td>[EATTRIBUTE_RESIST::eNONE, EATTRIBUTE_RESIST::...</td>\n",
       "    </tr>\n",
       "    <tr>\n",
       "      <th>ENE_BOS_WAR_C04_010</th>\n",
       "      <td>ENN_BOS_WAR_C04_010</td>\n",
       "      <td>ENE_BOS_WAR_C04_010</td>\n",
       "      <td>[EATTRIBUTE_RESIST::eNONE, EATTRIBUTE_RESIST::...</td>\n",
       "      <td>[EATTRIBUTE_RESIST::eWEAK, EATTRIBUTE_RESIST::...</td>\n",
       "    </tr>\n",
       "  </tbody>\n",
       "</table>\n",
       "</div>"
      ],
      "text/plain": [
       "                    DisplayNameID_151_570F1B1240B0BB42C31AA7A4F6CFAF72  \\\n",
       "Enemy_ID                                                                 \n",
       "ENE_BOS_WAR_C01_010                                ENN_BOS_WAR_C01_010   \n",
       "ENE_BOS_WAR_C01_020                                ENN_BOS_WAR_C01_020   \n",
       "ENE_BOS_WAR_C02_010                                ENN_BOS_WAR_C02_010   \n",
       "ENE_BOS_WAR_C02_020                                ENN_BOS_WAR_C02_020   \n",
       "ENE_BOS_WAR_C04_010                                ENN_BOS_WAR_C04_010   \n",
       "\n",
       "                    ResourceLabel_295_2D43957442A6F48343BB639C79635FAE  \\\n",
       "Enemy_ID                                                                 \n",
       "ENE_BOS_WAR_C01_010                                ENE_BOS_WAR_C01_010   \n",
       "ENE_BOS_WAR_C01_020                                ENE_BOS_WAR_C01_020   \n",
       "ENE_BOS_WAR_C02_010                                ENE_BOS_WAR_C02_010   \n",
       "ENE_BOS_WAR_C02_020                                ENE_BOS_WAR_C02_020   \n",
       "ENE_BOS_WAR_C04_010                                ENE_BOS_WAR_C04_010   \n",
       "\n",
       "                    AttributeResist_282_87881AFB4F4DD148EA692D8F63B73E16  \\\n",
       "Enemy_ID                                                                   \n",
       "ENE_BOS_WAR_C01_010  [EATTRIBUTE_RESIST::eNONE, EATTRIBUTE_RESIST::...     \n",
       "ENE_BOS_WAR_C01_020  [EATTRIBUTE_RESIST::eNONE, EATTRIBUTE_RESIST::...     \n",
       "ENE_BOS_WAR_C02_010  [EATTRIBUTE_RESIST::eNONE, EATTRIBUTE_RESIST::...     \n",
       "ENE_BOS_WAR_C02_020  [EATTRIBUTE_RESIST::eNONE, EATTRIBUTE_RESIST::...     \n",
       "ENE_BOS_WAR_C04_010  [EATTRIBUTE_RESIST::eNONE, EATTRIBUTE_RESIST::...     \n",
       "\n",
       "                     WeaponResist_283_0BB9356646F9B928F5FC1584A458ABBC  \n",
       "Enemy_ID                                                                \n",
       "ENE_BOS_WAR_C01_010  [EATTRIBUTE_RESIST::eWEAK, EATTRIBUTE_RESIST::...  \n",
       "ENE_BOS_WAR_C01_020  [EATTRIBUTE_RESIST::eWEAK, EATTRIBUTE_RESIST::...  \n",
       "ENE_BOS_WAR_C02_010  [EATTRIBUTE_RESIST::eNONE, EATTRIBUTE_RESIST::...  \n",
       "ENE_BOS_WAR_C02_020  [EATTRIBUTE_RESIST::eNONE, EATTRIBUTE_RESIST::...  \n",
       "ENE_BOS_WAR_C04_010  [EATTRIBUTE_RESIST::eWEAK, EATTRIBUTE_RESIST::...  "
      ]
     },
     "execution_count": 7,
     "metadata": {},
     "output_type": "execute_result"
    }
   ],
   "source": [
    "enemydf.index.name = 'Enemy_ID'\n",
    "enemydf.head()"
   ]
  },
  {
   "cell_type": "code",
   "execution_count": 8,
   "metadata": {},
   "outputs": [],
   "source": [
    "enemydf[['Magic', 'Fire','Ice','Lightning','Wind','Light','Dark']] = pd.DataFrame(enemydf['AttributeResist_282_87881AFB4F4DD148EA692D8F63B73E16'].tolist(), index=enemydf.index)\n",
    "enemydf[['Sword', 'Spear', 'Dagger', 'Axe', 'Bow', 'Staff','Physical']] = pd.DataFrame(enemydf['WeaponResist_283_0BB9356646F9B928F5FC1584A458ABBC'].tolist(), index=enemydf.index)\n",
    "\n",
    "enemydf = enemydf.drop(['AttributeResist_282_87881AFB4F4DD148EA692D8F63B73E16',\t'WeaponResist_283_0BB9356646F9B928F5FC1584A458ABBC','Magic','Physical'],axis=1)\n",
    "enemydf = enemydf.rename({'DisplayNameID_151_570F1B1240B0BB42C31AA7A4F6CFAF72':'DisplayName','ResourceLabel_295_2D43957442A6F48343BB639C79635FAE':'ResourceLabel'},axis=1)"
   ]
  },
  {
   "cell_type": "code",
   "execution_count": 9,
   "metadata": {},
   "outputs": [],
   "source": [
    "def find_if_possible(name):\n",
    "    try:\n",
    "        return textdf.loc[name]['Text']['string']\n",
    "    except:\n",
    "        return 'None'\n",
    "\n",
    "enemydf['DisplayName'] = enemydf['DisplayName'].apply(find_if_possible)\n",
    "enemydf = enemydf.drop(enemydf[enemydf['DisplayName'].str.contains('None')].index)"
   ]
  },
  {
   "cell_type": "code",
   "execution_count": 10,
   "metadata": {},
   "outputs": [],
   "source": [
    "mapping = {\"EATTRIBUTE_RESIST::eWEAK\":1,\"EATTRIBUTE_RESIST::eNONE\":0}\n",
    "enemydf = enemydf.replace(mapping)"
   ]
  },
  {
   "cell_type": "code",
   "execution_count": 11,
   "metadata": {},
   "outputs": [
    {
     "data": {
      "text/html": [
       "<div>\n",
       "<style scoped>\n",
       "    .dataframe tbody tr th:only-of-type {\n",
       "        vertical-align: middle;\n",
       "    }\n",
       "\n",
       "    .dataframe tbody tr th {\n",
       "        vertical-align: top;\n",
       "    }\n",
       "\n",
       "    .dataframe thead th {\n",
       "        text-align: right;\n",
       "    }\n",
       "</style>\n",
       "<table border=\"1\" class=\"dataframe\">\n",
       "  <thead>\n",
       "    <tr style=\"text-align: right;\">\n",
       "      <th></th>\n",
       "      <th>Enemy_ID</th>\n",
       "      <th>DisplayName</th>\n",
       "      <th>ResourceLabel</th>\n",
       "      <th>Fire</th>\n",
       "      <th>Ice</th>\n",
       "      <th>Lightning</th>\n",
       "      <th>Wind</th>\n",
       "      <th>Light</th>\n",
       "      <th>Dark</th>\n",
       "      <th>Sword</th>\n",
       "      <th>Spear</th>\n",
       "      <th>Dagger</th>\n",
       "      <th>Axe</th>\n",
       "      <th>Bow</th>\n",
       "      <th>Staff</th>\n",
       "    </tr>\n",
       "  </thead>\n",
       "  <tbody>\n",
       "    <tr>\n",
       "      <th>0</th>\n",
       "      <td>ENE_BOS_WAR_C01_010</td>\n",
       "      <td>Ritsu Mishuyo</td>\n",
       "      <td>ENE_BOS_WAR_C01_010</td>\n",
       "      <td>1</td>\n",
       "      <td>0</td>\n",
       "      <td>0</td>\n",
       "      <td>0</td>\n",
       "      <td>0</td>\n",
       "      <td>0</td>\n",
       "      <td>1</td>\n",
       "      <td>0</td>\n",
       "      <td>0</td>\n",
       "      <td>0</td>\n",
       "      <td>1</td>\n",
       "      <td>0</td>\n",
       "    </tr>\n",
       "    <tr>\n",
       "      <th>1</th>\n",
       "      <td>ENE_BOS_WAR_C01_020</td>\n",
       "      <td>Ritsu's Footman</td>\n",
       "      <td>ENE_BOS_WAR_C01_020</td>\n",
       "      <td>1</td>\n",
       "      <td>0</td>\n",
       "      <td>0</td>\n",
       "      <td>0</td>\n",
       "      <td>0</td>\n",
       "      <td>0</td>\n",
       "      <td>1</td>\n",
       "      <td>1</td>\n",
       "      <td>0</td>\n",
       "      <td>0</td>\n",
       "      <td>1</td>\n",
       "      <td>0</td>\n",
       "    </tr>\n",
       "    <tr>\n",
       "      <th>2</th>\n",
       "      <td>ENE_BOS_WAR_C02_010</td>\n",
       "      <td>Bandelam the Reaper</td>\n",
       "      <td>ENE_BOS_WAR_C02_010</td>\n",
       "      <td>1</td>\n",
       "      <td>0</td>\n",
       "      <td>0</td>\n",
       "      <td>0</td>\n",
       "      <td>1</td>\n",
       "      <td>0</td>\n",
       "      <td>0</td>\n",
       "      <td>1</td>\n",
       "      <td>1</td>\n",
       "      <td>1</td>\n",
       "      <td>0</td>\n",
       "      <td>0</td>\n",
       "    </tr>\n",
       "    <tr>\n",
       "      <th>3</th>\n",
       "      <td>ENE_BOS_WAR_C02_020</td>\n",
       "      <td>Borneau</td>\n",
       "      <td>ENE_BOS_WAR_C02_020</td>\n",
       "      <td>0</td>\n",
       "      <td>0</td>\n",
       "      <td>0</td>\n",
       "      <td>0</td>\n",
       "      <td>0</td>\n",
       "      <td>0</td>\n",
       "      <td>0</td>\n",
       "      <td>0</td>\n",
       "      <td>0</td>\n",
       "      <td>0</td>\n",
       "      <td>0</td>\n",
       "      <td>0</td>\n",
       "    </tr>\n",
       "    <tr>\n",
       "      <th>4</th>\n",
       "      <td>ENE_BOS_WAR_C04_010</td>\n",
       "      <td>Rai Mei</td>\n",
       "      <td>ENE_BOS_WAR_C04_010</td>\n",
       "      <td>1</td>\n",
       "      <td>0</td>\n",
       "      <td>0</td>\n",
       "      <td>0</td>\n",
       "      <td>1</td>\n",
       "      <td>0</td>\n",
       "      <td>1</td>\n",
       "      <td>0</td>\n",
       "      <td>0</td>\n",
       "      <td>0</td>\n",
       "      <td>0</td>\n",
       "      <td>1</td>\n",
       "    </tr>\n",
       "  </tbody>\n",
       "</table>\n",
       "</div>"
      ],
      "text/plain": [
       "              Enemy_ID          DisplayName        ResourceLabel  Fire  Ice  \\\n",
       "0  ENE_BOS_WAR_C01_010        Ritsu Mishuyo  ENE_BOS_WAR_C01_010     1    0   \n",
       "1  ENE_BOS_WAR_C01_020      Ritsu's Footman  ENE_BOS_WAR_C01_020     1    0   \n",
       "2  ENE_BOS_WAR_C02_010  Bandelam the Reaper  ENE_BOS_WAR_C02_010     1    0   \n",
       "3  ENE_BOS_WAR_C02_020              Borneau  ENE_BOS_WAR_C02_020     0    0   \n",
       "4  ENE_BOS_WAR_C04_010              Rai Mei  ENE_BOS_WAR_C04_010     1    0   \n",
       "\n",
       "   Lightning  Wind  Light  Dark  Sword  Spear  Dagger  Axe  Bow  Staff  \n",
       "0          0     0      0     0      1      0       0    0    1      0  \n",
       "1          0     0      0     0      1      1       0    0    1      0  \n",
       "2          0     0      1     0      0      1       1    1    0      0  \n",
       "3          0     0      0     0      0      0       0    0    0      0  \n",
       "4          0     0      1     0      1      0       0    0    0      1  "
      ]
     },
     "execution_count": 11,
     "metadata": {},
     "output_type": "execute_result"
    }
   ],
   "source": [
    "enemydf = enemydf.reset_index()\n",
    "enemydf.head()"
   ]
  },
  {
   "attachments": {},
   "cell_type": "markdown",
   "metadata": {},
   "source": [
    "Now to combine with resourcedb"
   ]
  },
  {
   "cell_type": "code",
   "execution_count": 12,
   "metadata": {},
   "outputs": [],
   "source": [
    "def find_if_possible(name):\n",
    "    try:\n",
    "        return resourcedf.loc[name]['ActionOrderIconL']['asset_path_name']\n",
    "    except:\n",
    "        return 'None'\n",
    "\n",
    "enemydf['asset_path'] = enemydf['ResourceLabel'].apply(find_if_possible)\n",
    "enemydf = enemydf.drop(enemydf[enemydf['asset_path'] == 'None'].index)\n",
    "enemydf = enemydf.drop('ResourceLabel',axis=1)"
   ]
  },
  {
   "cell_type": "code",
   "execution_count": 13,
   "metadata": {},
   "outputs": [],
   "source": [
    "enemydf['asset_path'] = enemydf['asset_path'].apply(lambda x: \".\\\\enemyicons\\\\\" + (x[57:])[:int(len(x[57:])/2)] + '.png')\n",
    "# edge case:\n",
    "enemydf = enemydf.drop(enemydf[enemydf['asset_path']=='.\\\\enemyicons\\\\UiTX_Battle_Oder_Select_Ritsu.png'].index)\n",
    "enemydf.reset_index(drop=True, inplace=True)"
   ]
  },
  {
   "cell_type": "code",
   "execution_count": 14,
   "metadata": {},
   "outputs": [],
   "source": [
    "enemydf.to_csv('dataset.csv')"
   ]
  },
  {
   "attachments": {},
   "cell_type": "markdown",
   "metadata": {},
   "source": [
    "## Part 2: CNN creation"
   ]
  },
  {
   "cell_type": "code",
   "execution_count": 28,
   "metadata": {},
   "outputs": [],
   "source": [
    "import pandas as pd\n",
    "import sklearn\n",
    "import numpy as np\n",
    "import sys\n",
    "import os\n",
    "import json\n",
    "import re\n",
    "from PIL import Image\n",
    "\n",
    "import tensorflow as tf\n",
    "import keras\n",
    "\n",
    "df = pd.read_csv('dataset.csv')"
   ]
  },
  {
   "attachments": {},
   "cell_type": "markdown",
   "metadata": {},
   "source": [
    "Confirming all images are of the same size"
   ]
  },
  {
   "cell_type": "code",
   "execution_count": 8,
   "metadata": {},
   "outputs": [
    {
     "name": "stdout",
     "output_type": "stream",
     "text": [
      "(128, 128)\n"
     ]
    }
   ],
   "source": [
    "size = (0,0)\n",
    "for i in df['asset_path']:\n",
    "    if os.path.exists(i):\n",
    "        if Image.open(i).size != size:\n",
    "            print(Image.open(i).size)\n",
    "            size = Image.open(i).size\n",
    "    else:\n",
    "        print(i)"
   ]
  },
  {
   "cell_type": "code",
   "execution_count": 9,
   "metadata": {},
   "outputs": [
    {
     "data": {
      "text/plain": [
       "False"
      ]
     },
     "execution_count": 9,
     "metadata": {},
     "output_type": "execute_result"
    }
   ],
   "source": [
    "tf.test.is_built_with_cuda()"
   ]
  },
  {
   "cell_type": "code",
   "execution_count": 10,
   "metadata": {},
   "outputs": [
    {
     "data": {
      "text/plain": [
       "[PhysicalDevice(name='/physical_device:CPU:0', device_type='CPU')]"
      ]
     },
     "execution_count": 10,
     "metadata": {},
     "output_type": "execute_result"
    }
   ],
   "source": [
    "tf.config.list_physical_devices()"
   ]
  },
  {
   "cell_type": "code",
   "execution_count": 11,
   "metadata": {},
   "outputs": [
    {
     "data": {
      "text/plain": [
       "[LogicalDevice(name='/device:CPU:0', device_type='CPU')]"
      ]
     },
     "execution_count": 11,
     "metadata": {},
     "output_type": "execute_result"
    }
   ],
   "source": [
    "tf.config.list_logical_devices()"
   ]
  },
  {
   "attachments": {},
   "cell_type": "markdown",
   "metadata": {},
   "source": [
    "I have a AMD GPU so I can't do much about this ):\n",
    "\n",
    "For now I will continue writing the code, assuming I can train with CUDA avalible, and on a later date I will train with a GPU from UMIACS once I figure out how to connect to it."
   ]
  },
  {
   "cell_type": "code",
   "execution_count": 29,
   "metadata": {},
   "outputs": [
    {
     "name": "stdout",
     "output_type": "stream",
     "text": [
      "Shape of images: (640, 128, 128, 3)\n",
      "Shape of labels: (640, 12)\n",
      "Shape of images: (72, 128, 128, 3)\n",
      "Shape of labels: (72, 12)\n"
     ]
    }
   ],
   "source": [
    "import keras.utils as image\n",
    "\n",
    "def arrange_data(dfin):\n",
    "    \n",
    "    image_data = []\n",
    "    img_paths = np.asarray(dfin['asset_path'])\n",
    "    \n",
    "    for i in range(len(img_paths)):\n",
    "        img = image.load_img(img_paths[i],target_size=(128, 128, 3))\n",
    "        img = image.img_to_array(img)\n",
    "        img = img/255\n",
    "        image_data.append(img)\n",
    "        \n",
    "        \n",
    "    X = np.array(image_data)\n",
    "    Y = np.array(dfin[['Fire','Ice','Lightning','Wind','Light','Dark','Sword','Spear','Dagger','Axe','Bow','Staff']])\n",
    "    \n",
    "    print(\"Shape of images:\", X.shape)\n",
    "    print(\"Shape of labels:\", Y.shape)\n",
    "    \n",
    "    return X, Y\n",
    "\n",
    "from sklearn.model_selection import train_test_split\n",
    "train, test = train_test_split(df, test_size=0.1)\n",
    "\n",
    "\n",
    "\n",
    "x_train, y_train = arrange_data(dfin = train)\n",
    "\n",
    "\n",
    "x_test, y_test = arrange_data(dfin = test)"
   ]
  },
  {
   "cell_type": "code",
   "execution_count": 31,
   "metadata": {},
   "outputs": [
    {
     "name": "stdout",
     "output_type": "stream",
     "text": [
      "Model: \"sequential_2\"\n",
      "_________________________________________________________________\n",
      " Layer (type)                Output Shape              Param #   \n",
      "=================================================================\n",
      " vgg16 (Functional)          (None, 4, 4, 512)         14714688  \n",
      "                                                                 \n",
      " flatten_2 (Flatten)         (None, 8192)              0         \n",
      "                                                                 \n",
      " dense_4 (Dense)             (None, 1024)              8389632   \n",
      "                                                                 \n",
      " dropout_2 (Dropout)         (None, 1024)              0         \n",
      "                                                                 \n",
      " dense_5 (Dense)             (None, 12)                12300     \n",
      "                                                                 \n",
      "=================================================================\n",
      "Total params: 23,116,620\n",
      "Trainable params: 15,481,356\n",
      "Non-trainable params: 7,635,264\n",
      "_________________________________________________________________\n",
      "Epoch 1/50\n"
     ]
    },
    {
     "name": "stderr",
     "output_type": "stream",
     "text": [
      "C:\\Users\\Alex Dai\\AppData\\Local\\Temp\\ipykernel_14072\\4022961056.py:33: UserWarning: `Model.fit_generator` is deprecated and will be removed in a future version. Please use `Model.fit`, which supports generators.\n",
      "  history = model.fit_generator(aug.flow(x_train, y_train, batch_size=BS),validation_data=(x_test, y_test), steps_per_epoch=len(x_train) // BS, epochs=EPOCHS)\n"
     ]
    },
    {
     "name": "stdout",
     "output_type": "stream",
     "text": [
      "10/10 [==============================] - 19s 2s/step - loss: 0.6655 - accuracy: 0.0375 - val_loss: 0.6111 - val_accuracy: 0.0000e+00\n",
      "Epoch 2/50\n",
      "10/10 [==============================] - 19s 2s/step - loss: 0.6273 - accuracy: 0.0391 - val_loss: 0.6046 - val_accuracy: 0.0417\n",
      "Epoch 3/50\n",
      "10/10 [==============================] - 19s 2s/step - loss: 0.6174 - accuracy: 0.0578 - val_loss: 0.6028 - val_accuracy: 0.0278\n",
      "Epoch 4/50\n",
      "10/10 [==============================] - 20s 2s/step - loss: 0.6123 - accuracy: 0.0531 - val_loss: 0.5992 - val_accuracy: 0.0833\n",
      "Epoch 5/50\n",
      "10/10 [==============================] - 20s 2s/step - loss: 0.6072 - accuracy: 0.0500 - val_loss: 0.5917 - val_accuracy: 0.0278\n",
      "Epoch 6/50\n",
      "10/10 [==============================] - 21s 2s/step - loss: 0.6016 - accuracy: 0.0484 - val_loss: 0.5923 - val_accuracy: 0.0556\n",
      "Epoch 7/50\n",
      "10/10 [==============================] - 21s 2s/step - loss: 0.5939 - accuracy: 0.0594 - val_loss: 0.5867 - val_accuracy: 0.0417\n",
      "Epoch 8/50\n",
      "10/10 [==============================] - 20s 2s/step - loss: 0.5838 - accuracy: 0.0688 - val_loss: 0.5802 - val_accuracy: 0.1111\n",
      "Epoch 9/50\n",
      "10/10 [==============================] - 20s 2s/step - loss: 0.5845 - accuracy: 0.0797 - val_loss: 0.5730 - val_accuracy: 0.0694\n",
      "Epoch 10/50\n",
      "10/10 [==============================] - 20s 2s/step - loss: 0.5773 - accuracy: 0.0797 - val_loss: 0.5862 - val_accuracy: 0.0833\n",
      "Epoch 11/50\n",
      "10/10 [==============================] - 20s 2s/step - loss: 0.5728 - accuracy: 0.1047 - val_loss: 0.5864 - val_accuracy: 0.0833\n",
      "Epoch 12/50\n",
      "10/10 [==============================] - 21s 2s/step - loss: 0.5615 - accuracy: 0.1250 - val_loss: 0.5791 - val_accuracy: 0.0417\n",
      "Epoch 13/50\n",
      "10/10 [==============================] - 21s 2s/step - loss: 0.5588 - accuracy: 0.0984 - val_loss: 0.5639 - val_accuracy: 0.0556\n",
      "Epoch 14/50\n",
      "10/10 [==============================] - 21s 2s/step - loss: 0.5527 - accuracy: 0.1000 - val_loss: 0.5678 - val_accuracy: 0.0694\n",
      "Epoch 15/50\n",
      "10/10 [==============================] - 21s 2s/step - loss: 0.5462 - accuracy: 0.1156 - val_loss: 0.5593 - val_accuracy: 0.0694\n",
      "Epoch 16/50\n",
      "10/10 [==============================] - 21s 2s/step - loss: 0.5342 - accuracy: 0.1172 - val_loss: 0.5521 - val_accuracy: 0.0833\n",
      "Epoch 17/50\n",
      "10/10 [==============================] - 21s 2s/step - loss: 0.5225 - accuracy: 0.1359 - val_loss: 0.5576 - val_accuracy: 0.0972\n",
      "Epoch 18/50\n",
      "10/10 [==============================] - 20s 2s/step - loss: 0.5236 - accuracy: 0.1516 - val_loss: 0.5622 - val_accuracy: 0.0694\n",
      "Epoch 19/50\n",
      "10/10 [==============================] - 20s 2s/step - loss: 0.5124 - accuracy: 0.1484 - val_loss: 0.5620 - val_accuracy: 0.0694\n",
      "Epoch 20/50\n",
      "10/10 [==============================] - 20s 2s/step - loss: 0.5047 - accuracy: 0.1406 - val_loss: 0.5662 - val_accuracy: 0.0556\n",
      "Epoch 21/50\n",
      "10/10 [==============================] - 20s 2s/step - loss: 0.5042 - accuracy: 0.1531 - val_loss: 0.5780 - val_accuracy: 0.0972\n",
      "Epoch 22/50\n",
      "10/10 [==============================] - 20s 2s/step - loss: 0.4940 - accuracy: 0.1609 - val_loss: 0.5659 - val_accuracy: 0.0694\n",
      "Epoch 23/50\n",
      "10/10 [==============================] - 21s 2s/step - loss: 0.4858 - accuracy: 0.1672 - val_loss: 0.5661 - val_accuracy: 0.0694\n",
      "Epoch 24/50\n",
      "10/10 [==============================] - 21s 2s/step - loss: 0.4766 - accuracy: 0.1703 - val_loss: 0.5805 - val_accuracy: 0.0556\n",
      "Epoch 25/50\n",
      "10/10 [==============================] - 20s 2s/step - loss: 0.4776 - accuracy: 0.1578 - val_loss: 0.5803 - val_accuracy: 0.0694\n",
      "Epoch 26/50\n",
      "10/10 [==============================] - 1957s 217s/step - loss: 0.4565 - accuracy: 0.1766 - val_loss: 0.5783 - val_accuracy: 0.0694\n",
      "Epoch 27/50\n",
      "10/10 [==============================] - 21s 2s/step - loss: 0.4663 - accuracy: 0.1922 - val_loss: 0.5584 - val_accuracy: 0.0694\n",
      "Epoch 28/50\n",
      "10/10 [==============================] - 21s 2s/step - loss: 0.4481 - accuracy: 0.1797 - val_loss: 0.6030 - val_accuracy: 0.0417\n",
      "Epoch 29/50\n",
      "10/10 [==============================] - 20s 2s/step - loss: 0.4429 - accuracy: 0.1969 - val_loss: 0.6012 - val_accuracy: 0.0833\n",
      "Epoch 30/50\n",
      "10/10 [==============================] - 20s 2s/step - loss: 0.4367 - accuracy: 0.2031 - val_loss: 0.5795 - val_accuracy: 0.1111\n",
      "Epoch 31/50\n",
      "10/10 [==============================] - 20s 2s/step - loss: 0.4237 - accuracy: 0.2109 - val_loss: 0.5900 - val_accuracy: 0.0694\n",
      "Epoch 32/50\n",
      "10/10 [==============================] - 21s 2s/step - loss: 0.4223 - accuracy: 0.2047 - val_loss: 0.5979 - val_accuracy: 0.0556\n",
      "Epoch 33/50\n",
      "10/10 [==============================] - 20s 2s/step - loss: 0.4172 - accuracy: 0.1922 - val_loss: 0.5915 - val_accuracy: 0.0556\n",
      "Epoch 34/50\n",
      "10/10 [==============================] - 20s 2s/step - loss: 0.4051 - accuracy: 0.2094 - val_loss: 0.5817 - val_accuracy: 0.0972\n",
      "Epoch 35/50\n",
      "10/10 [==============================] - 21s 2s/step - loss: 0.4055 - accuracy: 0.2219 - val_loss: 0.5872 - val_accuracy: 0.0556\n",
      "Epoch 36/50\n",
      "10/10 [==============================] - 20s 2s/step - loss: 0.3982 - accuracy: 0.1828 - val_loss: 0.6160 - val_accuracy: 0.0556\n",
      "Epoch 37/50\n",
      "10/10 [==============================] - 20s 2s/step - loss: 0.3881 - accuracy: 0.2203 - val_loss: 0.6279 - val_accuracy: 0.0833\n",
      "Epoch 38/50\n",
      "10/10 [==============================] - 20s 2s/step - loss: 0.3851 - accuracy: 0.2141 - val_loss: 0.6116 - val_accuracy: 0.0694\n",
      "Epoch 39/50\n",
      "10/10 [==============================] - 19s 2s/step - loss: 0.3768 - accuracy: 0.2094 - val_loss: 0.6005 - val_accuracy: 0.0556\n",
      "Epoch 40/50\n",
      "10/10 [==============================] - 20s 2s/step - loss: 0.3753 - accuracy: 0.2219 - val_loss: 0.5734 - val_accuracy: 0.0694\n",
      "Epoch 41/50\n",
      "10/10 [==============================] - 20s 2s/step - loss: 0.3570 - accuracy: 0.2344 - val_loss: 0.6351 - val_accuracy: 0.0556\n",
      "Epoch 42/50\n",
      "10/10 [==============================] - 20s 2s/step - loss: 0.3518 - accuracy: 0.2250 - val_loss: 0.6520 - val_accuracy: 0.0694\n",
      "Epoch 43/50\n",
      "10/10 [==============================] - 19s 2s/step - loss: 0.3512 - accuracy: 0.2266 - val_loss: 0.6403 - val_accuracy: 0.0972\n",
      "Epoch 44/50\n",
      "10/10 [==============================] - 20s 2s/step - loss: 0.3487 - accuracy: 0.2313 - val_loss: 0.6278 - val_accuracy: 0.0972\n",
      "Epoch 45/50\n",
      "10/10 [==============================] - 20s 2s/step - loss: 0.3377 - accuracy: 0.2234 - val_loss: 0.6682 - val_accuracy: 0.0556\n",
      "Epoch 46/50\n",
      "10/10 [==============================] - 20s 2s/step - loss: 0.3312 - accuracy: 0.2422 - val_loss: 0.6818 - val_accuracy: 0.0694\n",
      "Epoch 47/50\n",
      "10/10 [==============================] - 22s 2s/step - loss: 0.3338 - accuracy: 0.2141 - val_loss: 0.6167 - val_accuracy: 0.0694\n",
      "Epoch 48/50\n",
      "10/10 [==============================] - 20s 2s/step - loss: 0.3219 - accuracy: 0.2500 - val_loss: 0.6715 - val_accuracy: 0.0833\n",
      "Epoch 49/50\n",
      "10/10 [==============================] - 21s 2s/step - loss: 0.3090 - accuracy: 0.2313 - val_loss: 0.6157 - val_accuracy: 0.0694\n",
      "Epoch 50/50\n",
      "10/10 [==============================] - 21s 2s/step - loss: 0.3025 - accuracy: 0.2297 - val_loss: 0.7071 - val_accuracy: 0.0833\n"
     ]
    }
   ],
   "source": [
    "from keras.applications import VGG16\n",
    "from keras import models, layers, optimizers\n",
    "from keras.preprocessing.image import ImageDataGenerator\n",
    "\n",
    "vgg_conv = VGG16(weights='imagenet', include_top=False, input_shape=(128, 128, 3))\n",
    "\n",
    "# freeze last 4 layers\n",
    "for layer in vgg_conv.layers[:-4]:\n",
    "    layer.trainable = False\n",
    "\n",
    "\n",
    "model = models.Sequential()\n",
    "\n",
    "model.add(vgg_conv)\n",
    "\n",
    "num_classes = 12\n",
    "\n",
    "model.add(layers.Flatten())\n",
    "model.add(layers.Dense(1024, activation='relu'))\n",
    "model.add(layers.Dropout(0.5))\n",
    "model.add(layers.Dense(num_classes, activation='sigmoid'))\n",
    "\n",
    "model.summary()\n",
    "\n",
    "model.compile(optimizer=optimizers.RMSprop(lr=1e-4), loss='binary_crossentropy', metrics=['accuracy'])\n",
    "\n",
    "EPOCHS=50\n",
    "BS = 64\n",
    "\n",
    "# data augmentation to reduce overfit\n",
    "aug = ImageDataGenerator(rotation_range=20, zoom_range=0.15,width_shift_range=0.2, height_shift_range=0.2, shear_range=0.15,horizontal_flip=True, fill_mode=\"nearest\")\n",
    "\n",
    "history = model.fit_generator(aug.flow(x_train, y_train, batch_size=BS),validation_data=(x_test, y_test), steps_per_epoch=len(x_train) // BS, epochs=EPOCHS)\n",
    "\n",
    "model.save('Model_4d.h5')"
   ]
  },
  {
   "attachments": {},
   "cell_type": "markdown",
   "metadata": {},
   "source": [
    "I'll let this run to completion for the sake of presentation, but this ONLY uses the CPU (AKA non-CUDA) to train, which leads to absolutely terrible results."
   ]
  },
  {
   "cell_type": "code",
   "execution_count": null,
   "metadata": {},
   "outputs": [],
   "source": []
  }
 ],
 "metadata": {
  "kernelspec": {
   "display_name": "Python 3",
   "language": "python",
   "name": "python3"
  },
  "language_info": {
   "codemirror_mode": {
    "name": "ipython",
    "version": 3
   },
   "file_extension": ".py",
   "mimetype": "text/x-python",
   "name": "python",
   "nbconvert_exporter": "python",
   "pygments_lexer": "ipython3",
   "version": "3.9.0"
  },
  "orig_nbformat": 4
 },
 "nbformat": 4,
 "nbformat_minor": 2
}
